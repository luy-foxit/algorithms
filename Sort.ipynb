{
 "cells": [
  {
   "cell_type": "markdown",
   "metadata": {},
   "source": [
    "# 归并排序 (时间复杂度O(nlgn))"
   ]
  },
  {
   "cell_type": "code",
   "execution_count": 1,
   "metadata": {
    "collapsed": false
   },
   "outputs": [
    {
     "name": "stdout",
     "output_type": "stream",
     "text": [
      "[1, 2, 2, 3, 4, 5, 6, 7, 9]\n"
     ]
    }
   ],
   "source": [
    "# the range of A is [p,r)\n",
    "def Merge(A, p, q, r):\n",
    "    if(q < p or r <= q):\n",
    "        return\n",
    "    L = A[p:q]\n",
    "    R = A[q:r]\n",
    "    i=0\n",
    "    j=0\n",
    "    for k in range(p, r):\n",
    "        if(j>= len(R) or (i <len(L) and L[i]<=R[j])):\n",
    "            A[k]=L[i]\n",
    "            i+=1\n",
    "        else:\n",
    "            A[k]=R[j]\n",
    "            j+=1\n",
    "\n",
    "# the range of A is [p,r)            \n",
    "def MergeSort(A, p, r):\n",
    "    if(p<(r-1)):\n",
    "        q = (p+r)/2\n",
    "        #print [p,q,r]\n",
    "        MergeSort(A, p, q)\n",
    "        MergeSort(A, q, r)\n",
    "        Merge(A, p, q, r)\n",
    "\n",
    "Arr1 = [2,4,7,5,2,9,1,6,3]\n",
    "MergeSort(Arr1, 0, len(Arr1))\n",
    "\n",
    "print Arr1\n",
    "    "
   ]
  },
  {
   "cell_type": "markdown",
   "metadata": {},
   "source": [
    "# 堆排序"
   ]
  },
  {
   "cell_type": "code",
   "execution_count": 36,
   "metadata": {
    "collapsed": false,
    "scrolled": false
   },
   "outputs": [
    {
     "name": "stdout",
     "output_type": "stream",
     "text": [
      "[1, 2, 3, 4, 7, 8, 9, 10, 14, 16]\n"
     ]
    }
   ],
   "source": [
    "def Parent(i):\n",
    "    return (i-1)>>1\n",
    "def Left(i):\n",
    "    return (i<<1) + 1;\n",
    "def Right(i):\n",
    "    return (i<<1) + 2;\n",
    "\n",
    "def MaxHeapify(A, i, lenA):\n",
    "    largest = i\n",
    "    l = Left(i)\n",
    "    r = Right(i)\n",
    "    if(l < lenA and A[l] > A[i]):\n",
    "        largest = l\n",
    "    if(r < lenA and A[r] > A[largest]):\n",
    "        largest = r\n",
    "    if(largest != i):\n",
    "        tmp = A[largest]\n",
    "        A[largest] = A[i]\n",
    "        A[i] = tmp\n",
    "        MaxHeapify(A, largest, lenA)\n",
    "\n",
    "def BuildMaxHeap(A):\n",
    "    for i in range(len(A)/2-1, -1, -1):\n",
    "        MaxHeapify(A, i, len(A))\n",
    "        \n",
    "def HeapSort(A):\n",
    "    BuildMaxHeap(A)\n",
    "    arrLen = len(A) - 1\n",
    "    for i in range(arrLen,0,-1):\n",
    "        tmp = A[0]\n",
    "        A[0] = A[i]\n",
    "        A[i] = tmp\n",
    "        MaxHeapify(A, 0, i)\n",
    "        \n",
    "Arr2 = [16, 4, 10, 14, 7, 9, 3, 2, 8, 1]\n",
    "HeapSort(Arr2)\n",
    "print Arr2"
   ]
  },
  {
   "cell_type": "markdown",
   "metadata": {},
   "source": [
    "# 快速排序"
   ]
  },
  {
   "cell_type": "code",
   "execution_count": 3,
   "metadata": {
    "collapsed": false
   },
   "outputs": [
    {
     "name": "stdout",
     "output_type": "stream",
     "text": [
      "[1, 2, 3, 4, 5, 6, 7, 8]\n"
     ]
    }
   ],
   "source": [
    "# array range [p,r)\n",
    "def Partition(A, p, r):\n",
    "    x = A[r-1]\n",
    "    i = (p-1)\n",
    "    for j in range(p, r-1):\n",
    "        if(A[j] <= x):\n",
    "            i+=1\n",
    "            tmp = A[i]\n",
    "            A[i] = A[j]\n",
    "            A[j] = tmp\n",
    "    A[r-1] = A[i+1]\n",
    "    A[i+1] = x\n",
    "    return (i + 1)\n",
    "\n",
    "# array range [p,r)\n",
    "def QuickSort(A, p, r):\n",
    "    if(p<r-1):\n",
    "        q = Partition(A, p, r)\n",
    "        QuickSort(A, p, q)\n",
    "        QuickSort(A, q+1, r)\n",
    "        \n",
    "Arr3 = [2,8,7,1,3,5,6,4]\n",
    "QuickSort(Arr3, 0, len(Arr3))\n",
    "print Arr3"
   ]
  },
  {
   "cell_type": "markdown",
   "metadata": {},
   "source": [
    "# 计数排序"
   ]
  },
  {
   "cell_type": "code",
   "execution_count": 12,
   "metadata": {
    "collapsed": false,
    "scrolled": true
   },
   "outputs": [
    {
     "name": "stdout",
     "output_type": "stream",
     "text": [
      "[0, 0, 2, 2, 3, 3, 3, 5]\n"
     ]
    }
   ],
   "source": [
    "# 运行时间O(n)\n",
    "def CountingSort(A,B,k):\n",
    "    C = [0] * k\n",
    "    for i in range(0,len(A)):\n",
    "        C[A[i]] = C[A[i]] + 1\n",
    "    for i in range(1,k):\n",
    "        C[i] = C[i] + C[i-1]\n",
    "    for i in range(len(A)-1,-1,-1):\n",
    "        B[C[A[i]] - 1] = A[i]\n",
    "        C[A[i]] = C[A[i]] - 1\n",
    "    \n",
    "A = [2,5,3,0,2,3,0,3]\n",
    "B = [0] * len(A)\n",
    "CountingSort(A,B,6)\n",
    "print B"
   ]
  },
  {
   "cell_type": "markdown",
   "metadata": {},
   "source": [
    "# 桶排序"
   ]
  },
  {
   "cell_type": "code",
   "execution_count": 42,
   "metadata": {
    "collapsed": false,
    "scrolled": true
   },
   "outputs": [
    {
     "name": "stdout",
     "output_type": "stream",
     "text": [
      "[17, 21, 23, 26, 39, 68, 72, 78, 94]\n"
     ]
    }
   ],
   "source": [
    "def BucketSort(A):\n",
    "    B = []\n",
    "    for i in range(0,max(A)//10):\n",
    "        B.append([])\n",
    "\n",
    "    for i in range(0,len(A)):\n",
    "        B[(A[i] // 10) - 1].append(A[i]);\n",
    "\n",
    "    i = 0\n",
    "    for tmpList in B:\n",
    "        if(0 != len(tmpList)):\n",
    "            tmpList.sort()\n",
    "            for val in tmpList:\n",
    "                A[i] = val\n",
    "                i+=1\n",
    "\n",
    "A = [78,17,39,26,72,94,21,23,68]\n",
    "BucketSort(A)\n",
    "print A"
   ]
  }
 ],
 "metadata": {
  "anaconda-cloud": {},
  "kernelspec": {
   "display_name": "Python [default]",
   "language": "python",
   "name": "python2"
  },
  "language_info": {
   "codemirror_mode": {
    "name": "ipython",
    "version": 2
   },
   "file_extension": ".py",
   "mimetype": "text/x-python",
   "name": "python",
   "nbconvert_exporter": "python",
   "pygments_lexer": "ipython2",
   "version": "2.7.12"
  }
 },
 "nbformat": 4,
 "nbformat_minor": 1
}
