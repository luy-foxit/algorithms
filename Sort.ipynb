{
 "cells": [
  {
   "cell_type": "markdown",
   "metadata": {},
   "source": [
    "# 归并排序"
   ]
  },
  {
   "cell_type": "code",
   "execution_count": 46,
   "metadata": {
    "collapsed": false
   },
   "outputs": [
    {
     "name": "stdout",
     "output_type": "stream",
     "text": [
      "[1, 2, 2, 3, 4, 5, 6, 7, 9]\n"
     ]
    }
   ],
   "source": [
    "# the range of A is [p,r)\n",
    "def Merge(A, p, q, r):\n",
    "    if(q < p or r <= q):\n",
    "        return\n",
    "    L = A[p:q]\n",
    "    R = A[q:r]\n",
    "    i=0\n",
    "    j=0\n",
    "    for k in range(p, r):\n",
    "        if(j>= len(R) or (i <len(L) and L[i]<=R[j])):\n",
    "            A[k]=L[i]\n",
    "            i+=1\n",
    "        else:\n",
    "            A[k]=R[j]\n",
    "            j+=1\n",
    "\n",
    "# the range of A is [p,r)            \n",
    "def MergeSort(A, p, r):\n",
    "    if(p<(r-1)):\n",
    "        q = (p+r)/2\n",
    "        #print [p,q,r]\n",
    "        MergeSort(A, p, q)\n",
    "        MergeSort(A, q, r)\n",
    "        Merge(A, p, q, r)\n",
    "\n",
    "Arr1 = [2,4,7,5,2,9,1,6,3]\n",
    "MergeSort(Arr1, 0, len(Arr1))\n",
    "\n",
    "print Arr1\n",
    "    "
   ]
  }
 ],
 "metadata": {
  "anaconda-cloud": {},
  "kernelspec": {
   "display_name": "Python [default]",
   "language": "python",
   "name": "python2"
  },
  "language_info": {
   "codemirror_mode": {
    "name": "ipython",
    "version": 2
   },
   "file_extension": ".py",
   "mimetype": "text/x-python",
   "name": "python",
   "nbconvert_exporter": "python",
   "pygments_lexer": "ipython2",
   "version": "2.7.12"
  }
 },
 "nbformat": 4,
 "nbformat_minor": 1
}
