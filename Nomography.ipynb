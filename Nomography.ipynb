{
 "cells": [
  {
   "cell_type": "markdown",
   "metadata": {},
   "source": [
    "# 基本的图算法"
   ]
  },
  {
   "cell_type": "code",
   "execution_count": 6,
   "metadata": {
    "collapsed": false
   },
   "outputs": [
    {
     "name": "stdout",
     "output_type": "stream",
     "text": [
      "nodes: [1, 2, 3, 4, 5, 6, 7, 8]\n"
     ]
    }
   ],
   "source": [
    "class Graphy:\n",
    "    def __init__(self):\n",
    "        self.node_neighbors = {}\n",
    "        self.visited = {}\n",
    "    \n",
    "    def add_nodes(self, nodelist):\n",
    "        for node in nodelist:\n",
    "            self.add_node(node)\n",
    "    \n",
    "    def add_node(self, node):\n",
    "        if not node in self.nodes():\n",
    "            self.node_neighbors[node] = []\n",
    "    \n",
    "    def add_edge(self, edge):\n",
    "        u,v = edge\n",
    "        if(v not in self.node_neighbors[u]) and ( u not in self.node_neighbors[v]):\n",
    "            self.node_neighbors[u].append(v)\n",
    "            \n",
    "            if(u != v):\n",
    "                self.node_neighbors[v].append(u)\n",
    "                \n",
    "    def nodes(self):\n",
    "        return self.node_neighbors.keys()\n",
    "    \n",
    "    #广度优先遍历\n",
    "    def BFS(self, s):\n",
    "        return\n",
    "    \n",
    "g = Graphy()\n",
    "g.add_nodes([i+1 for i in range(8)])\n",
    "g.add_edge((1, 2))\n",
    "g.add_edge((1, 3))\n",
    "g.add_edge((2, 4))\n",
    "g.add_edge((2, 5))\n",
    "g.add_edge((4, 8))\n",
    "g.add_edge((5, 8))\n",
    "g.add_edge((3, 6))\n",
    "g.add_edge((3, 7))\n",
    "g.add_edge((6, 7))\n",
    "print \"nodes:\", g.nodes()\n",
    " "
   ]
  }
 ],
 "metadata": {
  "anaconda-cloud": {},
  "kernelspec": {
   "display_name": "Python [default]",
   "language": "python",
   "name": "python2"
  },
  "language_info": {
   "codemirror_mode": {
    "name": "ipython",
    "version": 2
   },
   "file_extension": ".py",
   "mimetype": "text/x-python",
   "name": "python",
   "nbconvert_exporter": "python",
   "pygments_lexer": "ipython2",
   "version": "2.7.12"
  }
 },
 "nbformat": 4,
 "nbformat_minor": 1
}
