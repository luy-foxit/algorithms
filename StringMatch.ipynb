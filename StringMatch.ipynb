{
 "cells": [
  {
   "cell_type": "markdown",
   "metadata": {},
   "source": [
    "# Rabin-Karp算法"
   ]
  },
  {
   "cell_type": "code",
   "execution_count": 6,
   "metadata": {},
   "outputs": [
    {
     "name": "stdout",
     "output_type": "stream",
     "text": [
      "Pattern occurs with shift 6\n"
     ]
    }
   ],
   "source": [
    "def rabin_karp_matcher(T,P,d,q):\n",
    "    \"\"\"\n",
    "    T: 完整字符串\n",
    "    P: 匹配模式\n",
    "    d: 字符串表示的进制，比如T中字符都是'0'-'9'，则d为10\n",
    "    q: 模的值, 一般会选一个素数，使d*q的大小在一个word可表示的范围内。\n",
    "    \"\"\"\n",
    "    n = len(T)\n",
    "    m = len(P)\n",
    "    h = (d**(m-1)) % q\n",
    "    p = 0\n",
    "    t = 0\n",
    "    for i in range(0, m):\n",
    "        #最前m个字符串表示的值堆q取模\n",
    "        p = (d*p+P[i]) % q\n",
    "        t = (d*t+T[i]) % q\n",
    "    for s in range(0, n-m):\n",
    "        if(p == t):\n",
    "            #模相等，有可能匹配上了，否则肯定没有匹配上\n",
    "            if(P == T[s:s+m]):\n",
    "                print(\"Pattern occurs with shift %d\" % s)\n",
    "        if(s < n-m-1):\n",
    "            t = (d*(t - T[s+1]*h) + T[s+m+1]) % q\n",
    "\n",
    "T=[2,3,5,9,0,2,3,1,4,1,5,2,6,7,3,9,9,2,1]\n",
    "P=[3,1,4,1,5]\n",
    "rabin_karp_matcher(T,P,10,13)\n",
    "        "
   ]
  },
  {
   "cell_type": "markdown",
   "metadata": {},
   "source": [
    "# 有限自动机"
   ]
  },
  {
   "cell_type": "code",
   "execution_count": null,
   "metadata": {
    "collapsed": true
   },
   "outputs": [],
   "source": []
  }
 ],
 "metadata": {
  "kernelspec": {
   "display_name": "Python 2",
   "language": "python",
   "name": "python2"
  },
  "language_info": {
   "codemirror_mode": {
    "name": "ipython",
    "version": 2
   },
   "file_extension": ".py",
   "mimetype": "text/x-python",
   "name": "python",
   "nbconvert_exporter": "python",
   "pygments_lexer": "ipython2",
   "version": "2.7.13"
  }
 },
 "nbformat": 4,
 "nbformat_minor": 2
}
