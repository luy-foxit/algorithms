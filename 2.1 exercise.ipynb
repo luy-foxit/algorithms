{
 "cells": [
  {
   "cell_type": "markdown",
   "metadata": {},
   "source": [
    "# 2.1-2"
   ]
  },
  {
   "cell_type": "code",
   "execution_count": 1,
   "metadata": {
    "collapsed": false
   },
   "outputs": [
    {
     "name": "stdout",
     "output_type": "stream",
     "text": [
      "59\n",
      "58\n",
      "41\n",
      "41\n",
      "31\n",
      "26\n"
     ]
    }
   ],
   "source": [
    "def InsertSort(arr):\n",
    "    arrNum = len(arr)\n",
    "    for i in range(1, arrNum):\n",
    "        tmp = arr[i]\n",
    "        j = i-1\n",
    "        while(j >= 0 and tmp > arr[j]):\n",
    "            arr[j+1] = arr[j]\n",
    "            j = j-1\n",
    "        arr[j+1] = tmp\n",
    "\n",
    "def PrintArr(arr):\n",
    "    for i in range(0,len(arr)):\n",
    "        print(arr[i]);\n",
    "\n",
    "arr = [31, 41, 59, 26, 41, 58]\n",
    "InsertSort(arr)\n",
    "PrintArr(arr)"
   ]
  },
  {
   "cell_type": "markdown",
   "metadata": {},
   "source": [
    "# 2.1-3"
   ]
  },
  {
   "cell_type": "code",
   "execution_count": 4,
   "metadata": {
    "collapsed": false
   },
   "outputs": [
    {
     "name": "stdout",
     "output_type": "stream",
     "text": [
      "2\n",
      "-1\n"
     ]
    }
   ],
   "source": [
    "def LinerSearch(arr, v):\n",
    "    for i in range(0,len(arr)):\n",
    "        if v == arr[i]:\n",
    "            return i\n",
    "    return -1\n",
    "\n",
    "arr = [31, 41, 59, 26, 41, 58]\n",
    "pos = LinerSearch(arr, 59)\n",
    "print(pos)\n",
    "pos = LinerSearch(arr, 43)\n",
    "print(pos)\n",
    "    "
   ]
  },
  {
   "cell_type": "markdown",
   "metadata": {},
   "source": [
    "# 2.1-4"
   ]
  },
  {
   "cell_type": "code",
   "execution_count": 7,
   "metadata": {
    "collapsed": false
   },
   "outputs": [
    {
     "name": "stdout",
     "output_type": "stream",
     "text": [
      "[1, 1, 0, 0, 1, 1]\n"
     ]
    }
   ],
   "source": [
    "def BinAdd(bin1, bin2, binadd):\n",
    "    num1 = 0\n",
    "    for i in range(len(bin1)-1,-1,-1):\n",
    "        num1 += (bin1[i] + bin2[i])\n",
    "        if(0 == num1%2):\n",
    "            binadd.insert(0,0)\n",
    "        else:\n",
    "            binadd.insert(0,1)\n",
    "        num1 /= 2\n",
    "    if(num1 > 0):\n",
    "        binadd.insert(0,1)\n",
    "\n",
    "bin1=[1,1,1,0,1]\n",
    "bin2=[1,0,1,1,0]\n",
    "binadd=[]\n",
    "BinAdd(bin1, bin2, binadd)\n",
    "print(binadd)\n",
    "                "
   ]
  }
 ],
 "metadata": {
  "anaconda-cloud": {},
  "kernelspec": {
   "display_name": "Python [default]",
   "language": "python",
   "name": "python2"
  },
  "language_info": {
   "codemirror_mode": {
    "name": "ipython",
    "version": 2
   },
   "file_extension": ".py",
   "mimetype": "text/x-python",
   "name": "python",
   "nbconvert_exporter": "python",
   "pygments_lexer": "ipython2",
   "version": "2.7.12"
  }
 },
 "nbformat": 4,
 "nbformat_minor": 1
}
