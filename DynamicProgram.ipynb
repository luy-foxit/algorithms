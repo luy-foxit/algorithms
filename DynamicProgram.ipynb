{
 "cells": [
  {
   "cell_type": "markdown",
   "metadata": {},
   "source": [
    "# 动态规划"
   ]
  },
  {
   "cell_type": "markdown",
   "metadata": {},
   "source": [
    "# 1. 钢条切割"
   ]
  },
  {
   "cell_type": "code",
   "execution_count": 17,
   "metadata": {
    "collapsed": false
   },
   "outputs": [
    {
     "name": "stdout",
     "output_type": "stream",
     "text": [
      "(10, 10)\n"
     ]
    }
   ],
   "source": [
    "import sys\n",
    "\n",
    "# 朴素递归算法\n",
    "def CutRod(p, n):\n",
    "    if(0 == n):\n",
    "        return 0\n",
    "    q = 0\n",
    "    for i in range(0, n):\n",
    "        q = max(q, p[i] + CutRod(p, n-1-i))\n",
    "    return q\n",
    "\n",
    "# 带备忘的自顶向下法(top-down with memoization)\n",
    "def MemoizedCutRod(p, n):\n",
    "    r = [0] * n\n",
    "    return MemoizedCutRodAux(p, n, r)\n",
    "        \n",
    "def MemoizedCutRodAux(p, n, r):\n",
    "    if(0 == n):\n",
    "        return 0\n",
    "    if(r[n-1] > 0):\n",
    "        return r[n-1]\n",
    "    q = 0\n",
    "    if(n > 0):\n",
    "        for i in range(n):\n",
    "            q = max(q, p[i] + MemoizedCutRodAux(p, n-1-i, r))\n",
    "    r[n-1] = q\n",
    "    return q\n",
    "\n",
    "# 自底向上法\n",
    "def ButtonUpCutRodAux(p, n):\n",
    "    #r[k] 用于表示钢管长度为k时，最大能组合成的价格\n",
    "    r = [0] * (n+1)\n",
    "    for j in range(1, n+1):\n",
    "        q = 0\n",
    "        for i in range(1, j+1):\n",
    "            q = max(q, p[i-1]+r[j-i])\n",
    "        r[j] = q\n",
    "    return r[n]\n",
    "\n",
    "p = [1,5,8,9]  #p[i] 指钢管长度为i+1时的价格\n",
    "maxval1 = CutRod(p, 4)\n",
    "maxval2 = MemoizedCutRod(p, 4)\n",
    "maxval3 = ButtonUpCutRodAux(p, 4)\n",
    "print((maxval2, maxval3))"
   ]
  }
 ],
 "metadata": {
  "anaconda-cloud": {},
  "kernelspec": {
   "display_name": "Python [default]",
   "language": "python",
   "name": "python2"
  },
  "language_info": {
   "codemirror_mode": {
    "name": "ipython",
    "version": 2
   },
   "file_extension": ".py",
   "mimetype": "text/x-python",
   "name": "python",
   "nbconvert_exporter": "python",
   "pygments_lexer": "ipython2",
   "version": "2.7.12"
  }
 },
 "nbformat": 4,
 "nbformat_minor": 1
}
