{
 "cells": [
  {
   "cell_type": "markdown",
   "metadata": {},
   "source": [
    "# 二叉堆(binary heap)"
   ]
  },
  {
   "cell_type": "code",
   "execution_count": 16,
   "metadata": {},
   "outputs": [
    {
     "name": "stdout",
     "output_type": "stream",
     "text": [
      "[90, 85, 70, 60, 80, 30, 20, 10, 50, 40]\n",
      "[85, 80, 70, 60, 40, 30, 20, 10, 50]\n"
     ]
    }
   ],
   "source": [
    "# http://www.cnblogs.com/skywang12345/p/3610187.html\n",
    "\n",
    "def Parent(i):\n",
    "    return (i-1)>>1\n",
    "def Left(i):\n",
    "    return (i<<1) + 1;\n",
    "def Right(i):\n",
    "    return (i<<1) + 2;\n",
    "\n",
    "class BinaryHeap:\n",
    "    def __init__(self):\n",
    "        self.heap = []\n",
    "    \n",
    "    def filter_up(self, start):\n",
    "        assert start < len(self.heap)\n",
    "        if(0 == start):\n",
    "            return\n",
    "        \n",
    "        parent = Parent(start)\n",
    "        if(self.heap[start] > self.heap[parent]):\n",
    "            (self.heap[start], self.heap[parent]) = (self.heap[parent], self.heap[start])\n",
    "            self.filter_up(parent)\n",
    "    \n",
    "    def filter_down(self, start, end):\n",
    "        if(start > end):\n",
    "            return\n",
    "        pos = Left(start)\n",
    "        if(pos > end):\n",
    "            return\n",
    "        if(pos < end and self.heap[pos] < self.heap[pos+1]):\n",
    "            pos += 1\n",
    "        if(self.heap[start] < self.heap[pos]):\n",
    "            (self.heap[start], self.heap[pos]) = (self.heap[pos], self.heap[start])\n",
    "            start = pos\n",
    "            self.filter_down(start, end)\n",
    "        \n",
    "    def insert(self, val):\n",
    "        self.heap.append(val)\n",
    "        self.filter_up(len(self.heap) - 1)\n",
    "    \n",
    "    def remove(self, val):\n",
    "        if(not val in self.heap):\n",
    "            return\n",
    "        idx = self.heap.index(val)\n",
    "        if(1 == len(self.heap) or idx == len(self.heap) - 1):\n",
    "            del(self.heap[idx])\n",
    "            return\n",
    "        (self.heap[idx], self.heap[len(self.heap) - 1]) = (self.heap[len(self.heap) - 1], self.heap[idx])\n",
    "        self.heap.pop()\n",
    "        self.filter_down(idx, len(self.heap)-1)\n",
    "\n",
    "if __name__=='__main__':\n",
    "    b_heap = BinaryHeap()\n",
    "    arr = [10, 40, 30, 60, 90, 70, 20, 50, 80, 85]\n",
    "    for i in arr:\n",
    "        b_heap.insert(i)\n",
    "    print(b_heap.heap)\n",
    "    \n",
    "    b_heap.remove(90)\n",
    "    print(b_heap.heap)"
   ]
  }
 ],
 "metadata": {
  "kernelspec": {
   "display_name": "Python 2",
   "language": "python",
   "name": "python2"
  },
  "language_info": {
   "codemirror_mode": {
    "name": "ipython",
    "version": 2
   },
   "file_extension": ".py",
   "mimetype": "text/x-python",
   "name": "python",
   "nbconvert_exporter": "python",
   "pygments_lexer": "ipython2",
   "version": "2.7.13"
  }
 },
 "nbformat": 4,
 "nbformat_minor": 2
}
